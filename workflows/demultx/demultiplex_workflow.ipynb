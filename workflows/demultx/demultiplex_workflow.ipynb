{
 "cells": [
  {
   "cell_type": "markdown",
   "metadata": {},
   "source": [
    "## 16S Amplicon Demultiplex Workflow"
   ]
  },
  {
   "cell_type": "markdown",
   "metadata": {},
   "source": [
    "* Chenghao Zhu\n",
    "* 2018/02/06\n",
    "* chhzhu@ucdavis.edu"
   ]
  },
  {
   "cell_type": "markdown",
   "metadata": {},
   "source": [
    "This workflow shows the basic step of demultiplex, filtering, and trimming primers for the raw fastq files, before any otu/feature picking. This workflow can only be used to process 16S sequencing fastq files generated using a special protol from David Miles lab, which only use the barcode, that is associated with the forward primer. In another word, the reverse (downstream) primer is not barcoded. \n",
    "\n",
    "In this workflow, raw paired end read fastq files were first demultiplexed using the barcode to pick up reads that have barcode in the begining of R1. Then the unmatched reads (unmatched_R1.fastq, unmatched_R2.fastq) were demultiplexed using barcode as reverse barcode, to pick up reads that have barcode in the begining of R2. **fastq_multx** is able to do the demultiplex without merging up the 2 paired end read. The demultiplexed reads (sample01_R1.fastq, sample-1_R2.fastq, ...) were then filtered using a python script, to remove reads that don't have the primers in the right place. Primers were then cut off from each end by specified length, and the 2 fastq files that belong to the same sample were concatenated together. In the very last step, FastQC is used to check the quality of reads, to determine the length to use in **DADA2**.\n",
    "\n",
    "This workflow requires around 40G disk space. The actual disk space might vary depands on your sample number. Make sure your hvae at lease **50G** of empty disk space before you start.\n",
    "\n",
    "This workflow is writen in Jupyter notebook. If you choose to run directly in shell command, you need to write shell schripts and remove the \"!\" in frount of each command. The \"!\" is only for jupyter notebook.\n",
    "\n",
    "\n",
    "**Prerequisite tools**: \n",
    "\n",
    "- **fastq-multx**:\n",
    "        Can be installed using the following command:\n",
    "        conda install -c bioconda fastq-multx\n",
    "\n",
    "- **paired_end_reads_filter_by_primer.py**:\n",
    "        This script has to be put under the same directory as your jupyter notebook. Ask Trevor (chhzhu@ucdavis.edu) for this script.\n",
    "        Biopython is also required to run this script successfully. It can be installed using:\n",
    "        conda install bio\n",
    "\n",
    "- **fastqc**:\n",
    "        Is you are using brew, you can use:\n",
    "        brew install fastqc\n",
    "        If you can't install fastqc, contact Trevor (chhzhu@ucdavis.edu)\n",
    "\n",
    "- **fastx-toolkit**:\n",
    "        Can be installed using conda:\n",
    "        conda install -c bioconda fastx-toolkit"
   ]
  },
  {
   "cell_type": "markdown",
   "metadata": {},
   "source": [
    "### Step 1. Demultiplex the forward"
   ]
  },
  {
   "cell_type": "code",
   "execution_count": null,
   "metadata": {
    "collapsed": true
   },
   "outputs": [],
   "source": [
    "!mkdir -p demultx_R1\n",
    "!mkdir -p demultx_R2"
   ]
  },
  {
   "cell_type": "code",
   "execution_count": null,
   "metadata": {
    "collapsed": true
   },
   "outputs": [],
   "source": [
    "!fastq-multx -B 2017_AZ_barcodes_FF.txt -m 0 -x -b\\\n",
    "            FFUBS-Run_S1_L001_R1_001.fastq \\\n",
    "            FFUBS-Run_S1_L001_R2_001.fastq \\\n",
    "            -o demultx_R1/%_R1.fastq \\\n",
    "            -o demultx_R1/%_R2.fastq"
   ]
  },
  {
   "cell_type": "markdown",
   "metadata": {},
   "source": [
    "This command generates around 17G fastq files for 40 samples. If your are trying to demultiplex for samples, make sure you enough disk space."
   ]
  },
  {
   "cell_type": "markdown",
   "metadata": {},
   "source": [
    "### Step 2. Demultiplex the reversed"
   ]
  },
  {
   "cell_type": "code",
   "execution_count": null,
   "metadata": {
    "collapsed": true
   },
   "outputs": [],
   "source": [
    "!fastq-multx -B /2017_AZ_barcodes_FF.txt -m 0 -x -b\\\n",
    "            demultx_R1/unmatched_R2.fastq \\\n",
    "            demultx_R1/unmatched_R1.fastq \\\n",
    "            -o demultx_R2/%_R2.fastq \\\n",
    "            -o demultx_R2/%_R1.fastq"
   ]
  },
  {
   "cell_type": "markdown",
   "metadata": {},
   "source": [
    "This command geneerates around 21G fastq files for 40 samples."
   ]
  },
  {
   "cell_type": "markdown",
   "metadata": {},
   "source": [
    "When this command is done, your can delate the raw fastq files, and the unmatched_R1.fastq and unmatched_R2.fastq in both demultx_R1 and demultx_R2 directories. This will save your some disk space"
   ]
  },
  {
   "cell_type": "markdown",
   "metadata": {},
   "source": [
    "### Step 3. Filter"
   ]
  },
  {
   "cell_type": "code",
   "execution_count": null,
   "metadata": {
    "collapsed": true
   },
   "outputs": [],
   "source": [
    "!mkdir -p filt_demultx_R1\n",
    "!mkdir -p filt_demultx_R2"
   ]
  },
  {
   "cell_type": "code",
   "execution_count": null,
   "metadata": {
    "collapsed": true
   },
   "outputs": [],
   "source": [
    "!ls demultx_R1/FF*_R1.fastq | cut -f2 -d '/' |cut -f1 -d '.' >filt_R1.txt\n",
    "!ls demultx_R1/FF*_R2.fastq | cut -f2 -d '/' |cut -f1 -d '.' >filt_R2.txt"
   ]
  },
  {
   "cell_type": "code",
   "execution_count": null,
   "metadata": {
    "collapsed": true
   },
   "outputs": [],
   "source": [
    "!python paired_end_reads_filter_by_primer.py \\\n",
    "    --input-forward-list filt_R1.txt \\\n",
    "    --input-reverse-list filt_R2.txt \\\n",
    "    --input-path demultx_R1 \\\n",
    "    --output-path filt_demultx_R1 \\\n",
    "    --barcodes 2017_AZ_barcodes_FF.txt \\\n",
    "    --forward-primer GTGTGCCAGCMGCCGCGGTAA \\\n",
    "    --reverse-primer GGACTACNVGGGTWTCTAAT"
   ]
  },
  {
   "cell_type": "code",
   "execution_count": null,
   "metadata": {
    "collapsed": true
   },
   "outputs": [],
   "source": [
    "!python paired_end_reads_filter_by_primer.py \\\n",
    "    --input-forward-list filt_R2.txt \\\n",
    "    --input-reverse-list filt_R1.txt \\\n",
    "    --input-path demultx_R2 \\\n",
    "    --output-path filt_demultx_R2 \\\n",
    "    --barcodes 2017_AZ_barcodes_FF.txt \\\n",
    "    --forward-primer GTGTGCCAGCMGCCGCGGTAA \\\n",
    "    --reverse-primer GGACTACNVGGGTWTCTAAT"
   ]
  },
  {
   "cell_type": "markdown",
   "metadata": {},
   "source": [
    "Although step1 and step2 pick up sequences that only starts with the barcodes for each sample. However, some sequences that have barcodes at the begining, don't have primer right after, or don' have the reverse primer at the begining of the other read in the pair. The purpose of this step is filter out those reads, and only keep the reads that not only have barcodes, but also have both forward and reverse primer at the correct location of the sequences. "
   ]
  },
  {
   "cell_type": "markdown",
   "metadata": {},
   "source": [
    "### Step 4. Trim off primers"
   ]
  },
  {
   "cell_type": "code",
   "execution_count": null,
   "metadata": {
    "collapsed": true
   },
   "outputs": [],
   "source": [
    "!ls filt_demultx_R1/FF*_R1.filt.fastq | cut -f2 -d '/' |cut -f1 -d '.' >trim_R1.txt\n",
    "!ls filt_demultx_R1/FF*_R2.filt.fastq | cut -f2 -d '/' |cut -f1 -d '.' >trim_R2.txt"
   ]
  },
  {
   "cell_type": "code",
   "execution_count": null,
   "metadata": {
    "collapsed": true
   },
   "outputs": [],
   "source": [
    "!mkdir trim_demultx_R1\n",
    "!mkdir trim_demultx_R2"
   ]
  },
  {
   "cell_type": "code",
   "execution_count": null,
   "metadata": {
    "collapsed": true
   },
   "outputs": [],
   "source": [
    "%%bash\n",
    "while read trim\n",
    "do\n",
    "        fastx_trimmer -f 30 -i filt_demultx_R1/$trim.filt.fastq -o trim_demultx_R1/$trim.trim.fastq\n",
    "done < trim_R1.txt"
   ]
  },
  {
   "cell_type": "code",
   "execution_count": null,
   "metadata": {
    "collapsed": true
   },
   "outputs": [],
   "source": [
    "%%bash\n",
    "while read trim\n",
    "do\n",
    "        fastx_trimmer -f 21 -i filt_demultx_R1/$trim.filt.fastq -o trim_demultx_R1/$trim.trim.fastq\n",
    "done < trim_R2.txt"
   ]
  },
  {
   "cell_type": "code",
   "execution_count": null,
   "metadata": {
    "collapsed": true
   },
   "outputs": [],
   "source": [
    "%%bash\n",
    "while read trim\n",
    "do\n",
    "        fastx_trimmer -f 21 -i filt_demultx_R2/$trim.filt.fastq -o trim_demultx_R2/$trim.trim.fastq\n",
    "done < trim_R1.txt"
   ]
  },
  {
   "cell_type": "code",
   "execution_count": null,
   "metadata": {
    "collapsed": true
   },
   "outputs": [],
   "source": [
    "%%bash\n",
    "while read trim\n",
    "do\n",
    "        fastx_trimmer -f 30 -i filt_demultx_R2/$trim.filt.fastq -o trim_demultx_R2/$trim.trim.fastq\n",
    "done < trim_R2.txt"
   ]
  },
  {
   "cell_type": "markdown",
   "metadata": {},
   "source": [
    "### Step 5. Concatenate"
   ]
  },
  {
   "cell_type": "code",
   "execution_count": null,
   "metadata": {
    "collapsed": true
   },
   "outputs": [],
   "source": [
    "!mkdir -p alldemultx"
   ]
  },
  {
   "cell_type": "code",
   "execution_count": null,
   "metadata": {
    "collapsed": true
   },
   "outputs": [],
   "source": [
    "!ls trim_demultx_R1/FF*.fastq | cut -f2 -d '/' |cut -f1 -d '_' > sample_list.txt"
   ]
  },
  {
   "cell_type": "code",
   "execution_count": null,
   "metadata": {
    "collapsed": true
   },
   "outputs": [],
   "source": [
    "%%bash\n",
    "while read id\n",
    "do\n",
    "        cat trim_demultx_R1/${id}_R1.trim.fastq trim_demultx_R2/${id}_R1.trim.fastq > alldemultx/${id}_R\n",
    "done < sample_list.txt"
   ]
  },
  {
   "cell_type": "code",
   "execution_count": null,
   "metadata": {
    "collapsed": true
   },
   "outputs": [],
   "source": [
    "%%bash\n",
    "while read id\n",
    "do\n",
    "        cat trim_demultx_R1/${id}_R2.trim.fastq trim_demultx_R2/${id}_R2.trim.fastq > alldemultx/${id}_R\n",
    "done < sample_list.txt"
   ]
  },
  {
   "cell_type": "markdown",
   "metadata": {},
   "source": [
    "### Step 6. FastQC"
   ]
  },
  {
   "cell_type": "code",
   "execution_count": null,
   "metadata": {
    "collapsed": true
   },
   "outputs": [],
   "source": [
    "!mkdir -p fastqc"
   ]
  },
  {
   "cell_type": "code",
   "execution_count": null,
   "metadata": {
    "collapsed": true
   },
   "outputs": [],
   "source": [
    "!cat alldemultx/FF*_R1.combo.fastq > R1.all.fastq\n",
    "!cat alldemultx/FF*_R2.combo.fastq > R2.all.fastq"
   ]
  },
  {
   "cell_type": "code",
   "execution_count": null,
   "metadata": {
    "collapsed": true
   },
   "outputs": [],
   "source": [
    "!fastqc R1.all.fastq R2.all.fastq -o fastqc"
   ]
  },
  {
   "cell_type": "code",
   "execution_count": null,
   "metadata": {
    "collapsed": true
   },
   "outputs": [],
   "source": [
    "!rm R1.all.fastq\n",
    "!rm R2.all.fastq"
   ]
  },
  {
   "cell_type": "code",
   "execution_count": null,
   "metadata": {
    "collapsed": true
   },
   "outputs": [],
   "source": [
    "!ls fastqc"
   ]
  }
 ],
 "metadata": {
  "kernelspec": {
   "display_name": "Python 3",
   "language": "python",
   "name": "python3"
  },
  "language_info": {
   "codemirror_mode": {
    "name": "ipython",
    "version": 3
   },
   "file_extension": ".py",
   "mimetype": "text/x-python",
   "name": "python",
   "nbconvert_exporter": "python",
   "pygments_lexer": "ipython3",
   "version": "3.6.1"
  }
 },
 "nbformat": 4,
 "nbformat_minor": 2
}
